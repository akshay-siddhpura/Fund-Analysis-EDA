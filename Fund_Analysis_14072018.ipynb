{
 "cells": [
  {
   "cell_type": "markdown",
   "metadata": {
    "collapsed": true
   },
   "source": [
    "# Objective of Client\n",
    "    -Identify best sectors,coutries and investment type for making investment "
   ]
  },
  {
   "cell_type": "markdown",
   "metadata": {},
   "source": [
    "# Constrains\n",
    "    - 5 to 15 mn USD per round\n",
    "    - Invest only in english speaking contries"
   ]
  },
  {
   "cell_type": "markdown",
   "metadata": {},
   "source": [
    "# Strategies\n",
    "    -Invest where other investors are investing\n",
    "    "
   ]
  },
  {
   "cell_type": "code",
   "execution_count": 3,
   "metadata": {
    "collapsed": true
   },
   "outputs": [],
   "source": [
    "import pandas as pd\n",
    "import numpy as np\n",
    "import matplotlib.pyplot as plt\n",
    "import math\n",
    "import seaborn as sns\n",
    "%matplotlib inline\n",
    "\n",
    "pd.options.display.float_format = '${:,.2f}'.format\n"
   ]
  },
  {
   "cell_type": "code",
   "execution_count": 4,
   "metadata": {},
   "outputs": [
    {
     "name": "stdout",
     "output_type": "stream",
     "text": [
      "rounds2: (114949, 6)\n",
      "companies: (66368, 10)\n",
      "mappings: (688, 10)\n"
     ]
    }
   ],
   "source": [
    "#Get the data first\n",
    "rounds2 = pd.read_csv('rounds2.csv',encoding = 'ISO-8859-1')\n",
    "print(\"rounds2:\",rounds2.shape)\n",
    "\n",
    "companies = pd.read_table('companies.txt',encoding = 'ISO-8859-1')\n",
    "print(\"companies:\",companies.shape)\n",
    "  \n",
    "mappings = pd.read_csv('mapping.csv')\n",
    "print(\"mappings:\",mappings.shape) "
   ]
  },
  {
   "cell_type": "markdown",
   "metadata": {},
   "source": [
    "# General data analysis"
   ]
  },
  {
   "cell_type": "code",
   "execution_count": 83,
   "metadata": {},
   "outputs": [
    {
     "data": {
      "text/plain": [
       "(Index(['company_permalink', 'funding_round_permalink', 'funding_round_type',\n",
       "        'funding_round_code', 'funded_at', 'raised_amount_usd'],\n",
       "       dtype='object'),\n",
       " Index(['permalink', 'name', 'homepage_url', 'category_list', 'status',\n",
       "        'country_code', 'state_code', 'region', 'city', 'founded_at'],\n",
       "       dtype='object'),\n",
       " Index(['category_list', 'Automotive & Sports', 'Blanks',\n",
       "        'Cleantech / Semiconductors', 'Entertainment', 'Health',\n",
       "        'Manufacturing', 'News, Search and Messaging', 'Others',\n",
       "        'Social, Finance, Analytics, Advertising'],\n",
       "       dtype='object'))"
      ]
     },
     "execution_count": 83,
     "metadata": {},
     "output_type": "execute_result"
    }
   ],
   "source": [
    "rounds2.columns,companies.columns,mappings.columns"
   ]
  },
  {
   "cell_type": "code",
   "execution_count": 84,
   "metadata": {},
   "outputs": [
    {
     "name": "stdout",
     "output_type": "stream",
     "text": [
      "permalink            0\n",
      "name                 1\n",
      "homepage_url      5058\n",
      "category_list     3148\n",
      "status               0\n",
      "country_code      6958\n",
      "state_code        8547\n",
      "region            8030\n",
      "city              8028\n",
      "founded_at       15221\n",
      "dtype: int64\n"
     ]
    },
    {
     "data": {
      "text/html": [
       "<div>\n",
       "<style>\n",
       "    .dataframe thead tr:only-child th {\n",
       "        text-align: right;\n",
       "    }\n",
       "\n",
       "    .dataframe thead th {\n",
       "        text-align: left;\n",
       "    }\n",
       "\n",
       "    .dataframe tbody tr th {\n",
       "        vertical-align: top;\n",
       "    }\n",
       "</style>\n",
       "<table border=\"1\" class=\"dataframe\">\n",
       "  <thead>\n",
       "    <tr style=\"text-align: right;\">\n",
       "      <th></th>\n",
       "      <th>permalink</th>\n",
       "      <th>name</th>\n",
       "      <th>homepage_url</th>\n",
       "      <th>category_list</th>\n",
       "      <th>status</th>\n",
       "      <th>country_code</th>\n",
       "      <th>state_code</th>\n",
       "      <th>region</th>\n",
       "      <th>city</th>\n",
       "      <th>founded_at</th>\n",
       "    </tr>\n",
       "  </thead>\n",
       "  <tbody>\n",
       "    <tr>\n",
       "      <th>count</th>\n",
       "      <td>66368</td>\n",
       "      <td>66367</td>\n",
       "      <td>61310</td>\n",
       "      <td>63220</td>\n",
       "      <td>66368</td>\n",
       "      <td>59410</td>\n",
       "      <td>57821</td>\n",
       "      <td>58338</td>\n",
       "      <td>58340</td>\n",
       "      <td>51147</td>\n",
       "    </tr>\n",
       "    <tr>\n",
       "      <th>unique</th>\n",
       "      <td>66368</td>\n",
       "      <td>66102</td>\n",
       "      <td>61191</td>\n",
       "      <td>27296</td>\n",
       "      <td>4</td>\n",
       "      <td>137</td>\n",
       "      <td>311</td>\n",
       "      <td>1092</td>\n",
       "      <td>5111</td>\n",
       "      <td>3978</td>\n",
       "    </tr>\n",
       "    <tr>\n",
       "      <th>top</th>\n",
       "      <td>/Organization/Ownerlistens</td>\n",
       "      <td>Peach</td>\n",
       "      <td>http://www.askforoffer.com</td>\n",
       "      <td>Software</td>\n",
       "      <td>operating</td>\n",
       "      <td>USA</td>\n",
       "      <td>CA</td>\n",
       "      <td>SF Bay Area</td>\n",
       "      <td>San Francisco</td>\n",
       "      <td>01-01-2012</td>\n",
       "    </tr>\n",
       "    <tr>\n",
       "      <th>freq</th>\n",
       "      <td>1</td>\n",
       "      <td>4</td>\n",
       "      <td>5</td>\n",
       "      <td>3995</td>\n",
       "      <td>53034</td>\n",
       "      <td>37601</td>\n",
       "      <td>12900</td>\n",
       "      <td>8804</td>\n",
       "      <td>3526</td>\n",
       "      <td>2730</td>\n",
       "    </tr>\n",
       "  </tbody>\n",
       "</table>\n",
       "</div>"
      ],
      "text/plain": [
       "                         permalink   name                homepage_url  \\\n",
       "count                        66368  66367                       61310   \n",
       "unique                       66368  66102                       61191   \n",
       "top     /Organization/Ownerlistens  Peach  http://www.askforoffer.com   \n",
       "freq                             1      4                           5   \n",
       "\n",
       "       category_list     status country_code state_code       region  \\\n",
       "count          63220      66368        59410      57821        58338   \n",
       "unique         27296          4          137        311         1092   \n",
       "top         Software  operating          USA         CA  SF Bay Area   \n",
       "freq            3995      53034        37601      12900         8804   \n",
       "\n",
       "                 city  founded_at  \n",
       "count           58340       51147  \n",
       "unique           5111        3978  \n",
       "top     San Francisco  01-01-2012  \n",
       "freq             3526        2730  "
      ]
     },
     "execution_count": 84,
     "metadata": {},
     "output_type": "execute_result"
    }
   ],
   "source": [
    "print(companies.isnull().sum())\n",
    "companies.describe(include=['O'])"
   ]
  },
  {
   "cell_type": "code",
   "execution_count": 5,
   "metadata": {},
   "outputs": [
    {
     "data": {
      "text/html": [
       "<div>\n",
       "<style>\n",
       "    .dataframe thead tr:only-child th {\n",
       "        text-align: right;\n",
       "    }\n",
       "\n",
       "    .dataframe thead th {\n",
       "        text-align: left;\n",
       "    }\n",
       "\n",
       "    .dataframe tbody tr th {\n",
       "        vertical-align: top;\n",
       "    }\n",
       "</style>\n",
       "<table border=\"1\" class=\"dataframe\">\n",
       "  <thead>\n",
       "    <tr style=\"text-align: right;\">\n",
       "      <th></th>\n",
       "      <th>company_permalink</th>\n",
       "      <th>funding_round_permalink</th>\n",
       "      <th>funding_round_type</th>\n",
       "      <th>funding_round_code</th>\n",
       "      <th>funded_at</th>\n",
       "    </tr>\n",
       "  </thead>\n",
       "  <tbody>\n",
       "    <tr>\n",
       "      <th>count</th>\n",
       "      <td>114949</td>\n",
       "      <td>114949</td>\n",
       "      <td>114949</td>\n",
       "      <td>31140</td>\n",
       "      <td>114949</td>\n",
       "    </tr>\n",
       "    <tr>\n",
       "      <th>unique</th>\n",
       "      <td>90247</td>\n",
       "      <td>114949</td>\n",
       "      <td>14</td>\n",
       "      <td>8</td>\n",
       "      <td>5033</td>\n",
       "    </tr>\n",
       "    <tr>\n",
       "      <th>top</th>\n",
       "      <td>/ORGANIZATION/SOLARFLARE</td>\n",
       "      <td>/funding-round/8a1a40c730c01d1174e4ee5e9b4a9870</td>\n",
       "      <td>venture</td>\n",
       "      <td>A</td>\n",
       "      <td>01-01-2014</td>\n",
       "    </tr>\n",
       "    <tr>\n",
       "      <th>freq</th>\n",
       "      <td>10</td>\n",
       "      <td>1</td>\n",
       "      <td>55494</td>\n",
       "      <td>14747</td>\n",
       "      <td>779</td>\n",
       "    </tr>\n",
       "  </tbody>\n",
       "</table>\n",
       "</div>"
      ],
      "text/plain": [
       "               company_permalink  \\\n",
       "count                     114949   \n",
       "unique                     90247   \n",
       "top     /ORGANIZATION/SOLARFLARE   \n",
       "freq                          10   \n",
       "\n",
       "                                funding_round_permalink funding_round_type  \\\n",
       "count                                            114949             114949   \n",
       "unique                                           114949                 14   \n",
       "top     /funding-round/8a1a40c730c01d1174e4ee5e9b4a9870            venture   \n",
       "freq                                                  1              55494   \n",
       "\n",
       "       funding_round_code   funded_at  \n",
       "count               31140      114949  \n",
       "unique                  8        5033  \n",
       "top                     A  01-01-2014  \n",
       "freq                14747         779  "
      ]
     },
     "execution_count": 5,
     "metadata": {},
     "output_type": "execute_result"
    }
   ],
   "source": [
    "rounds2.describe(include=['O'])"
   ]
  },
  {
   "cell_type": "markdown",
   "metadata": {},
   "source": [
    "    -We can see that permalink has no any null value and all the\n",
    "      values are unique, so we can take it as a primary key\n",
    "     Also\n",
    "    -we have so many null values in our dataset\n",
    "    -however as per requirement we need raised amount\n",
    "    -we will remove null categorylist afterwords\n",
    "    -we are going to remove all the non english countries\n",
    "        "
   ]
  },
  {
   "cell_type": "code",
   "execution_count": 5,
   "metadata": {},
   "outputs": [
    {
     "data": {
      "text/html": [
       "<div>\n",
       "<style>\n",
       "    .dataframe thead tr:only-child th {\n",
       "        text-align: right;\n",
       "    }\n",
       "\n",
       "    .dataframe thead th {\n",
       "        text-align: left;\n",
       "    }\n",
       "\n",
       "    .dataframe tbody tr th {\n",
       "        vertical-align: top;\n",
       "    }\n",
       "</style>\n",
       "<table border=\"1\" class=\"dataframe\">\n",
       "  <thead>\n",
       "    <tr style=\"text-align: right;\">\n",
       "      <th></th>\n",
       "      <th>company_permalink</th>\n",
       "      <th>funding_round_permalink</th>\n",
       "      <th>funding_round_type</th>\n",
       "      <th>funding_round_code</th>\n",
       "      <th>funded_at</th>\n",
       "      <th>raised_amount_usd</th>\n",
       "    </tr>\n",
       "  </thead>\n",
       "  <tbody>\n",
       "    <tr>\n",
       "      <th>0</th>\n",
       "      <td>/organization/-fame</td>\n",
       "      <td>/funding-round/9a01d05418af9f794eebff7ace91f638</td>\n",
       "      <td>venture</td>\n",
       "      <td>B</td>\n",
       "      <td>05-01-2015</td>\n",
       "      <td>10000000.0</td>\n",
       "    </tr>\n",
       "    <tr>\n",
       "      <th>1</th>\n",
       "      <td>/ORGANIZATION/-QOUNTER</td>\n",
       "      <td>/funding-round/22dacff496eb7acb2b901dec1dfe5633</td>\n",
       "      <td>venture</td>\n",
       "      <td>A</td>\n",
       "      <td>14-10-2014</td>\n",
       "      <td>NaN</td>\n",
       "    </tr>\n",
       "    <tr>\n",
       "      <th>2</th>\n",
       "      <td>/organization/-qounter</td>\n",
       "      <td>/funding-round/b44fbb94153f6cdef13083530bb48030</td>\n",
       "      <td>seed</td>\n",
       "      <td>NaN</td>\n",
       "      <td>01-03-2014</td>\n",
       "      <td>700000.0</td>\n",
       "    </tr>\n",
       "    <tr>\n",
       "      <th>3</th>\n",
       "      <td>/ORGANIZATION/-THE-ONE-OF-THEM-INC-</td>\n",
       "      <td>/funding-round/650b8f704416801069bb178a1418776b</td>\n",
       "      <td>venture</td>\n",
       "      <td>B</td>\n",
       "      <td>30-01-2014</td>\n",
       "      <td>3406878.0</td>\n",
       "    </tr>\n",
       "    <tr>\n",
       "      <th>4</th>\n",
       "      <td>/organization/0-6-com</td>\n",
       "      <td>/funding-round/5727accaeaa57461bd22a9bdd945382d</td>\n",
       "      <td>venture</td>\n",
       "      <td>A</td>\n",
       "      <td>19-03-2008</td>\n",
       "      <td>2000000.0</td>\n",
       "    </tr>\n",
       "  </tbody>\n",
       "</table>\n",
       "</div>"
      ],
      "text/plain": [
       "                     company_permalink  \\\n",
       "0                  /organization/-fame   \n",
       "1               /ORGANIZATION/-QOUNTER   \n",
       "2               /organization/-qounter   \n",
       "3  /ORGANIZATION/-THE-ONE-OF-THEM-INC-   \n",
       "4                /organization/0-6-com   \n",
       "\n",
       "                           funding_round_permalink funding_round_type  \\\n",
       "0  /funding-round/9a01d05418af9f794eebff7ace91f638            venture   \n",
       "1  /funding-round/22dacff496eb7acb2b901dec1dfe5633            venture   \n",
       "2  /funding-round/b44fbb94153f6cdef13083530bb48030               seed   \n",
       "3  /funding-round/650b8f704416801069bb178a1418776b            venture   \n",
       "4  /funding-round/5727accaeaa57461bd22a9bdd945382d            venture   \n",
       "\n",
       "  funding_round_code   funded_at  raised_amount_usd  \n",
       "0                  B  05-01-2015         10000000.0  \n",
       "1                  A  14-10-2014                NaN  \n",
       "2                NaN  01-03-2014           700000.0  \n",
       "3                  B  30-01-2014          3406878.0  \n",
       "4                  A  19-03-2008          2000000.0  "
      ]
     },
     "execution_count": 5,
     "metadata": {},
     "output_type": "execute_result"
    }
   ],
   "source": [
    "rounds2.head()"
   ]
  },
  {
   "cell_type": "code",
   "execution_count": 6,
   "metadata": {},
   "outputs": [
    {
     "data": {
      "text/html": [
       "<div>\n",
       "<style>\n",
       "    .dataframe thead tr:only-child th {\n",
       "        text-align: right;\n",
       "    }\n",
       "\n",
       "    .dataframe thead th {\n",
       "        text-align: left;\n",
       "    }\n",
       "\n",
       "    .dataframe tbody tr th {\n",
       "        vertical-align: top;\n",
       "    }\n",
       "</style>\n",
       "<table border=\"1\" class=\"dataframe\">\n",
       "  <thead>\n",
       "    <tr style=\"text-align: right;\">\n",
       "      <th></th>\n",
       "      <th>permalink</th>\n",
       "      <th>name</th>\n",
       "      <th>homepage_url</th>\n",
       "      <th>category_list</th>\n",
       "      <th>status</th>\n",
       "      <th>country_code</th>\n",
       "      <th>state_code</th>\n",
       "      <th>region</th>\n",
       "      <th>city</th>\n",
       "      <th>founded_at</th>\n",
       "    </tr>\n",
       "  </thead>\n",
       "  <tbody>\n",
       "    <tr>\n",
       "      <th>0</th>\n",
       "      <td>/Organization/-Fame</td>\n",
       "      <td>#fame</td>\n",
       "      <td>http://livfame.com</td>\n",
       "      <td>Media</td>\n",
       "      <td>operating</td>\n",
       "      <td>IND</td>\n",
       "      <td>16</td>\n",
       "      <td>Mumbai</td>\n",
       "      <td>Mumbai</td>\n",
       "      <td>NaN</td>\n",
       "    </tr>\n",
       "    <tr>\n",
       "      <th>1</th>\n",
       "      <td>/Organization/-Qounter</td>\n",
       "      <td>:Qounter</td>\n",
       "      <td>http://www.qounter.com</td>\n",
       "      <td>Application Platforms|Real Time|Social Network...</td>\n",
       "      <td>operating</td>\n",
       "      <td>USA</td>\n",
       "      <td>DE</td>\n",
       "      <td>DE - Other</td>\n",
       "      <td>Delaware City</td>\n",
       "      <td>04-09-2014</td>\n",
       "    </tr>\n",
       "    <tr>\n",
       "      <th>2</th>\n",
       "      <td>/Organization/-The-One-Of-Them-Inc-</td>\n",
       "      <td>(THE) ONE of THEM,Inc.</td>\n",
       "      <td>http://oneofthem.jp</td>\n",
       "      <td>Apps|Games|Mobile</td>\n",
       "      <td>operating</td>\n",
       "      <td>NaN</td>\n",
       "      <td>NaN</td>\n",
       "      <td>NaN</td>\n",
       "      <td>NaN</td>\n",
       "      <td>NaN</td>\n",
       "    </tr>\n",
       "    <tr>\n",
       "      <th>3</th>\n",
       "      <td>/Organization/0-6-Com</td>\n",
       "      <td>0-6.com</td>\n",
       "      <td>http://www.0-6.com</td>\n",
       "      <td>Curated Web</td>\n",
       "      <td>operating</td>\n",
       "      <td>CHN</td>\n",
       "      <td>22</td>\n",
       "      <td>Beijing</td>\n",
       "      <td>Beijing</td>\n",
       "      <td>01-01-2007</td>\n",
       "    </tr>\n",
       "    <tr>\n",
       "      <th>4</th>\n",
       "      <td>/Organization/004-Technologies</td>\n",
       "      <td>004 Technologies</td>\n",
       "      <td>http://004gmbh.de/en/004-interact</td>\n",
       "      <td>Software</td>\n",
       "      <td>operating</td>\n",
       "      <td>USA</td>\n",
       "      <td>IL</td>\n",
       "      <td>Springfield, Illinois</td>\n",
       "      <td>Champaign</td>\n",
       "      <td>01-01-2010</td>\n",
       "    </tr>\n",
       "  </tbody>\n",
       "</table>\n",
       "</div>"
      ],
      "text/plain": [
       "                             permalink                    name  \\\n",
       "0                  /Organization/-Fame                   #fame   \n",
       "1               /Organization/-Qounter                :Qounter   \n",
       "2  /Organization/-The-One-Of-Them-Inc-  (THE) ONE of THEM,Inc.   \n",
       "3                /Organization/0-6-Com                 0-6.com   \n",
       "4       /Organization/004-Technologies        004 Technologies   \n",
       "\n",
       "                        homepage_url  \\\n",
       "0                 http://livfame.com   \n",
       "1             http://www.qounter.com   \n",
       "2                http://oneofthem.jp   \n",
       "3                 http://www.0-6.com   \n",
       "4  http://004gmbh.de/en/004-interact   \n",
       "\n",
       "                                       category_list     status country_code  \\\n",
       "0                                              Media  operating          IND   \n",
       "1  Application Platforms|Real Time|Social Network...  operating          USA   \n",
       "2                                  Apps|Games|Mobile  operating          NaN   \n",
       "3                                        Curated Web  operating          CHN   \n",
       "4                                           Software  operating          USA   \n",
       "\n",
       "  state_code                 region           city  founded_at  \n",
       "0         16                 Mumbai         Mumbai         NaN  \n",
       "1         DE             DE - Other  Delaware City  04-09-2014  \n",
       "2        NaN                    NaN            NaN         NaN  \n",
       "3         22                Beijing        Beijing  01-01-2007  \n",
       "4         IL  Springfield, Illinois      Champaign  01-01-2010  "
      ]
     },
     "execution_count": 6,
     "metadata": {},
     "output_type": "execute_result"
    }
   ],
   "source": [
    "companies.head()"
   ]
  },
  {
   "cell_type": "markdown",
   "metadata": {},
   "source": [
    "    -What we can see from the data that permalink and company_parmalink is relation between two dataframe\n",
    "    -but as from data we see that links are not comparable becoz of uper and lower case ,\n",
    "    -first convert all to lower case\n",
    "        "
   ]
  },
  {
   "cell_type": "code",
   "execution_count": 128,
   "metadata": {
    "collapsed": true
   },
   "outputs": [],
   "source": [
    "companies['permalink']=companies['permalink'].str.lower()\n",
    "rounds2['company_permalink']=rounds2['company_permalink'].str.lower()"
   ]
  },
  {
   "cell_type": "code",
   "execution_count": 72,
   "metadata": {
    "scrolled": true
   },
   "outputs": [
    {
     "name": "stdout",
     "output_type": "stream",
     "text": [
      "Countries which are not present in companies are as below:\n"
     ]
    },
    {
     "data": {
      "text/html": [
       "<div>\n",
       "<style>\n",
       "    .dataframe thead tr:only-child th {\n",
       "        text-align: right;\n",
       "    }\n",
       "\n",
       "    .dataframe thead th {\n",
       "        text-align: left;\n",
       "    }\n",
       "\n",
       "    .dataframe tbody tr th {\n",
       "        vertical-align: top;\n",
       "    }\n",
       "</style>\n",
       "<table border=\"1\" class=\"dataframe\">\n",
       "  <thead>\n",
       "    <tr style=\"text-align: right;\">\n",
       "      <th></th>\n",
       "      <th>company_permalink</th>\n",
       "      <th>funding_round_permalink</th>\n",
       "      <th>funding_round_type</th>\n",
       "      <th>funding_round_code</th>\n",
       "      <th>funded_at</th>\n",
       "      <th>raised_amount_usd</th>\n",
       "    </tr>\n",
       "  </thead>\n",
       "  <tbody>\n",
       "    <tr>\n",
       "      <th>29597</th>\n",
       "      <td>/organization/e-cãbica</td>\n",
       "      <td>/funding-round/8491f74869e4fe8ba9c378394f8fbdea</td>\n",
       "      <td>seed</td>\n",
       "      <td>NaN</td>\n",
       "      <td>01-02-2015</td>\n",
       "      <td>$nan</td>\n",
       "    </tr>\n",
       "    <tr>\n",
       "      <th>31863</th>\n",
       "      <td>/organization/energystone-games-çµç³æ¸¸æ</td>\n",
       "      <td>/funding-round/b89553f3d2279c5683ae93f45a21cfe0</td>\n",
       "      <td>seed</td>\n",
       "      <td>NaN</td>\n",
       "      <td>09-08-2014</td>\n",
       "      <td>$nan</td>\n",
       "    </tr>\n",
       "    <tr>\n",
       "      <th>45176</th>\n",
       "      <td>/organization/huizuche-com-æ ç§ÿè½¦</td>\n",
       "      <td>/funding-round/8f8a32dbeeb0f831a78702f83af78a36</td>\n",
       "      <td>seed</td>\n",
       "      <td>NaN</td>\n",
       "      <td>18-09-2014</td>\n",
       "      <td>$nan</td>\n",
       "    </tr>\n",
       "    <tr>\n",
       "      <th>58473</th>\n",
       "      <td>/organization/magnet-tech-ç£ç³ç§æ</td>\n",
       "      <td>/funding-round/8fc91fbb32bc95e97f151dd0cb4166bf</td>\n",
       "      <td>seed</td>\n",
       "      <td>NaN</td>\n",
       "      <td>16-08-2014</td>\n",
       "      <td>$1,625,585.00</td>\n",
       "    </tr>\n",
       "    <tr>\n",
       "      <th>101036</th>\n",
       "      <td>/organization/tipcat-interactive-æ²èÿä¿¡æ¯ç...</td>\n",
       "      <td>/funding-round/41005928a1439cb2d706a43cb661f60f</td>\n",
       "      <td>seed</td>\n",
       "      <td>NaN</td>\n",
       "      <td>06-09-2010</td>\n",
       "      <td>$nan</td>\n",
       "    </tr>\n",
       "    <tr>\n",
       "      <th>109969</th>\n",
       "      <td>/organization/weiche-tech-åè½¦ç§æ</td>\n",
       "      <td>/funding-round/f74e457f838b81fa0b29649740f186d8</td>\n",
       "      <td>venture</td>\n",
       "      <td>A</td>\n",
       "      <td>06-09-2015</td>\n",
       "      <td>$nan</td>\n",
       "    </tr>\n",
       "    <tr>\n",
       "      <th>113839</th>\n",
       "      <td>/organization/zengame-ç¦",
       "æ¸¸ç§æ</td>\n",
       "      <td>/funding-round/6ba28fb4f3eadf5a9c6c81bc5dde6cdf</td>\n",
       "      <td>seed</td>\n",
       "      <td>NaN</td>\n",
       "      <td>17-07-2010</td>\n",
       "      <td>$nan</td>\n",
       "    </tr>\n",
       "  </tbody>\n",
       "</table>\n",
       "</div>"
      ],
      "text/plain": [
       "                                        company_permalink  \\\n",
       "29597                             /organization/e-cãbica   \n",
       "31863        /organization/energystone-games-çµç³æ¸¸æ   \n",
       "45176                /organization/huizuche-com-æ ç§ÿè½¦   \n",
       "58473              /organization/magnet-tech-ç£ç³ç§æ   \n",
       "101036  /organization/tipcat-interactive-æ²èÿä¿¡æ¯ç...   \n",
       "109969             /organization/weiche-tech-åè½¦ç§æ   \n",
       "113839                 /organization/zengame-ç¦\n",
       "æ¸¸ç§æ   \n",
       "\n",
       "                                funding_round_permalink funding_round_type  \\\n",
       "29597   /funding-round/8491f74869e4fe8ba9c378394f8fbdea               seed   \n",
       "31863   /funding-round/b89553f3d2279c5683ae93f45a21cfe0               seed   \n",
       "45176   /funding-round/8f8a32dbeeb0f831a78702f83af78a36               seed   \n",
       "58473   /funding-round/8fc91fbb32bc95e97f151dd0cb4166bf               seed   \n",
       "101036  /funding-round/41005928a1439cb2d706a43cb661f60f               seed   \n",
       "109969  /funding-round/f74e457f838b81fa0b29649740f186d8            venture   \n",
       "113839  /funding-round/6ba28fb4f3eadf5a9c6c81bc5dde6cdf               seed   \n",
       "\n",
       "       funding_round_code   funded_at  raised_amount_usd  \n",
       "29597                 NaN  01-02-2015               $nan  \n",
       "31863                 NaN  09-08-2014               $nan  \n",
       "45176                 NaN  18-09-2014               $nan  \n",
       "58473                 NaN  16-08-2014      $1,625,585.00  \n",
       "101036                NaN  06-09-2010               $nan  \n",
       "109969                  A  06-09-2015               $nan  \n",
       "113839                NaN  17-07-2010               $nan  "
      ]
     },
     "execution_count": 72,
     "metadata": {},
     "output_type": "execute_result"
    }
   ],
   "source": [
    "print(\"Countries which are not present in companies are as below:\")\n",
    "test=companies.permalink\n",
    "rounds2.query(\"company_permalink not in @test\")"
   ]
  },
  {
   "cell_type": "markdown",
   "metadata": {},
   "source": [
    "    -There are 7 rows in rounds2 dataframe which has company permalink \n",
    "      which is not in companies dataframe (this couldbe due to different language character)\n",
    "    -Merge the two dataframes -rounds2 and companies"
   ]
  },
  {
   "cell_type": "code",
   "execution_count": 129,
   "metadata": {
    "collapsed": true
   },
   "outputs": [],
   "source": [
    "master_frame= rounds2.merge(companies, left_on='company_permalink', right_on='permalink', how='inner') "
   ]
  },
  {
   "cell_type": "code",
   "execution_count": 89,
   "metadata": {},
   "outputs": [
    {
     "data": {
      "text/plain": [
       "((114942, 16),\n",
       " Index(['company_permalink', 'funding_round_permalink', 'funding_round_type',\n",
       "        'funding_round_code', 'funded_at', 'raised_amount_usd', 'permalink',\n",
       "        'name', 'homepage_url', 'category_list', 'status', 'country_code',\n",
       "        'state_code', 'region', 'city', 'founded_at'],\n",
       "       dtype='object'))"
      ]
     },
     "execution_count": 89,
     "metadata": {},
     "output_type": "execute_result"
    }
   ],
   "source": [
    "master_frame.shape,master_frame.columns"
   ]
  },
  {
   "cell_type": "markdown",
   "metadata": {},
   "source": [
    "    -Now we will remove all non emglish speaking contries\n",
    "    -From the data provided -        'IND','USA','CAN','GBR','AUS','SGP','IRL','NZL','CHE','NGA','ZAF','MUS','KEN','PHL','GHA','UGA','PAK','ZWE','BRB','TTO','CMR','MLT','ZMB','JAM','KNA','RWA','DMA','BLZ','GRD','SYC'\n",
    "    These are the coutries which speaks english"
   ]
  },
  {
   "cell_type": "code",
   "execution_count": 130,
   "metadata": {},
   "outputs": [
    {
     "data": {
      "text/plain": [
       "(87002, 16)"
      ]
     },
     "execution_count": 130,
     "metadata": {},
     "output_type": "execute_result"
    }
   ],
   "source": [
    "eng_countries=['IND','USA','CAN','GBR','AUS','SGP','IRL','NZL','CHE','NGA','ZAF','MUS','KEN','PHL','GHA','UGA','PAK','ZWE','BRB','TTO','CMR','MLT','ZMB','JAM','KNA','RWA','DMA','BLZ','GRD','SYC']\n",
    "master_frame=master_frame[master_frame['country_code'].isin(eng_countries)]\n",
    "master_frame.shape"
   ]
  },
  {
   "cell_type": "markdown",
   "metadata": {},
   "source": [
    "    -As per requirement we need to consider only countries so we will remove all other columns regarding location"
   ]
  },
  {
   "cell_type": "code",
   "execution_count": 131,
   "metadata": {
    "collapsed": true
   },
   "outputs": [],
   "source": [
    "master_frame.drop(['state_code', 'region', 'city'],axis=1,inplace=True)"
   ]
  },
  {
   "cell_type": "markdown",
   "metadata": {},
   "source": [
    "    -We also do not need funding_round_permalink,funding_round_code,funded_at,name,homepage_url"
   ]
  },
  {
   "cell_type": "code",
   "execution_count": 132,
   "metadata": {
    "collapsed": true
   },
   "outputs": [],
   "source": [
    "master_frame.drop(['funding_round_permalink','funding_round_code', 'funded_at','name','homepage_url'\\\n",
    "                    ],axis=1,inplace=True)"
   ]
  },
  {
   "cell_type": "code",
   "execution_count": 94,
   "metadata": {},
   "outputs": [
    {
     "data": {
      "text/plain": [
       "company_permalink         0\n",
       "funding_round_type        0\n",
       "raised_amount_usd     13028\n",
       "permalink                 0\n",
       "category_list          1286\n",
       "status                    0\n",
       "country_code              0\n",
       "founded_at            12878\n",
       "dtype: int64"
      ]
     },
     "execution_count": 94,
     "metadata": {},
     "output_type": "execute_result"
    }
   ],
   "source": [
    "master_frame.isnull().sum()"
   ]
  },
  {
   "cell_type": "code",
   "execution_count": 133,
   "metadata": {
    "collapsed": true
   },
   "outputs": [],
   "source": [
    "#As mentioned earlier we will impute raised aamount with the help of country and round type\n",
    "table = master_frame.pivot_table(values='raised_amount_usd', index='country_code' ,columns='funding_round_type', aggfunc=np.mean)\n",
    "def fillInvest(x):\n",
    "    return table.loc[x['country_code'],x['funding_round_type']]\n",
    "# Replace missing values\n",
    "master_frame['raised_amount_usd'].fillna(master_frame[master_frame['raised_amount_usd'].isnull()].apply(fillInvest,axis=1),inplace=True)"
   ]
  },
  {
   "cell_type": "code",
   "execution_count": 106,
   "metadata": {},
   "outputs": [
    {
     "name": "stdout",
     "output_type": "stream",
     "text": [
      "Note that the data is after we perform lower case\n",
      "----------------------------------------------------------\n",
      "In Rounds2 company_permalink           66370\n",
      "funding_round_permalink    114949\n",
      "funding_round_type             14\n",
      "funding_round_code              9\n",
      "funded_at                    5033\n",
      "raised_amount_usd           22096\n",
      "dtype: int64\n",
      "----------------------------------------------------------\n",
      "In comapnies permalink        66368\n",
      "name             66103\n",
      "homepage_url     61192\n",
      "category_list    27297\n",
      "status               4\n",
      "country_code       138\n",
      "state_code         312\n",
      "region            1093\n",
      "city              5112\n",
      "founded_at        3979\n",
      "dtype: int64\n"
     ]
    }
   ],
   "source": [
    "print(\"Note that the data is after we perform lower case\")\n",
    "print(\"----------------------------------------------------------\")\n",
    "print(\"In Rounds2\",rounds2.apply(lambda x: len(x.unique())))\n",
    "print(\"----------------------------------------------------------\")\n",
    "print(\"In comapnies\",companies.apply(lambda x: len(x.unique())))"
   ]
  },
  {
   "cell_type": "markdown",
   "metadata": {},
   "source": [
    "# Funding round type analysis (Checkpoint 2)\n"
   ]
  },
  {
   "cell_type": "code",
   "execution_count": 134,
   "metadata": {},
   "outputs": [
    {
     "data": {
      "text/plain": [
       "(70356, 8)"
      ]
     },
     "execution_count": 134,
     "metadata": {},
     "output_type": "execute_result"
    }
   ],
   "source": [
    "#As per the requirement client wants type from only 4 -seed angel venture private equity\n",
    "#we remove all except them\n",
    "rounds=['angel','seed','venture','private_equity']\n",
    "master_frame= master_frame[master_frame['funding_round_type'].isin(rounds)]\n",
    "master_frame.shape"
   ]
  },
  {
   "cell_type": "code",
   "execution_count": 135,
   "metadata": {},
   "outputs": [
    {
     "data": {
      "text/plain": [
       "<Container object of 4 artists>"
      ]
     },
     "execution_count": 135,
     "metadata": {},
     "output_type": "execute_result"
    },
    {
     "data": {
      "image/png": "[encoded data removed]",
      "text/plain": [
       "<matplotlib.figure.Figure at 0x1f3957bc320>"
      ]
     },
     "metadata": {},
     "output_type": "display_data"
    }
   ],
   "source": [
    "\n",
    "rounds=['angel','seed','venture','private_equity']\n",
    "graph1=pd.DataFrame(master_frame[master_frame['funding_round_type'].isin(rounds)].groupby('funding_round_type').raised_amount_usd.mean().sort_values(ascending=True))\n",
    "\n",
    "plt.figure(figsize=(8,4))\n",
    "plt.title(\"Checkpoint 6- plot 1 - funsding type analysis\") \n",
    "plt.xticks(rotation=90)\n",
    "plt.xlabel(\"Funding types\")\n",
    "plt.ylabel(\"Avg raised amount\")\n",
    "plt.ylim(30,70000000) \n",
    "\n",
    "plt.bar(graph1.index, graph1.raised_amount_usd, edgecolor='white', width=1,color=\"RGBY\")\n"
   ]
  },
  {
   "cell_type": "code",
   "execution_count": 13,
   "metadata": {},
   "outputs": [
    {
     "data": {
      "text/html": [
       "<div>\n",
       "<style>\n",
       "    .dataframe thead tr:only-child th {\n",
       "        text-align: right;\n",
       "    }\n",
       "\n",
       "    .dataframe thead th {\n",
       "        text-align: left;\n",
       "    }\n",
       "\n",
       "    .dataframe tbody tr th {\n",
       "        vertical-align: top;\n",
       "    }\n",
       "</style>\n",
       "<table border=\"1\" class=\"dataframe\">\n",
       "  <thead>\n",
       "    <tr style=\"text-align: right;\">\n",
       "      <th></th>\n",
       "      <th>funding_round_type</th>\n",
       "      <th>raised_amount_usd</th>\n",
       "    </tr>\n",
       "  </thead>\n",
       "  <tbody>\n",
       "    <tr>\n",
       "      <th>0</th>\n",
       "      <td>angel</td>\n",
       "      <td>$3,342,112,780.15</td>\n",
       "    </tr>\n",
       "    <tr>\n",
       "      <th>1</th>\n",
       "      <td>seed</td>\n",
       "      <td>$16,765,718,505.03</td>\n",
       "    </tr>\n",
       "    <tr>\n",
       "      <th>2</th>\n",
       "      <td>private_equity</td>\n",
       "      <td>$108,295,010,557.57</td>\n",
       "    </tr>\n",
       "    <tr>\n",
       "      <th>3</th>\n",
       "      <td>venture</td>\n",
       "      <td>$511,119,858,693.18</td>\n",
       "    </tr>\n",
       "  </tbody>\n",
       "</table>\n",
       "</div>"
      ],
      "text/plain": [
       "  funding_round_type   raised_amount_usd\n",
       "0              angel   $3,342,112,780.15\n",
       "1               seed  $16,765,718,505.03\n",
       "2     private_equity $108,295,010,557.57\n",
       "3            venture $511,119,858,693.18"
      ]
     },
     "execution_count": 13,
     "metadata": {},
     "output_type": "execute_result"
    }
   ],
   "source": [
    "funding=pd.DataFrame(master_frame.groupby('funding_round_type').raised_amount_usd.sum().sort_values(ascending=True))\n",
    "funding=funding.reset_index() \n",
    "funding"
   ]
  },
  {
   "cell_type": "code",
   "execution_count": 171,
   "metadata": {},
   "outputs": [
    {
     "data": {
      "text/plain": [
       "Text(0,0.5,'Sum of raised amount')"
      ]
     },
     "execution_count": 171,
     "metadata": {},
     "output_type": "execute_result"
    },
    {
     "data": {
      "image/png": "[encoded data removed]",
      "text/plain": [
       "<matplotlib.figure.Figure at 0x1f38ba575c0>"
      ]
     },
     "metadata": {},
     "output_type": "display_data"
    }
   ],
   "source": [
    "  \n",
    "plt.figure(figsize=(7,7))   \n",
    "sns.set_context(\"paper\", font_scale=1.5, rc={\"font.size\":1,\"axes.labelsize\":15})\n",
    "ax=sns.barplot(data=funding,x=funding.funding_round_type,y=funding.raised_amount_usd,palette='rainbow')\n",
    "plt.title('Rounding fund type analysis')\n",
    "plt.ylabel(\"Sum of raised amount\")"
   ]
  },
  {
   "cell_type": "code",
   "execution_count": 137,
   "metadata": {},
   "outputs": [
    {
     "data": {
      "text/html": [
       "<div>\n",
       "<style>\n",
       "    .dataframe thead tr:only-child th {\n",
       "        text-align: right;\n",
       "    }\n",
       "\n",
       "    .dataframe thead th {\n",
       "        text-align: left;\n",
       "    }\n",
       "\n",
       "    .dataframe tbody tr th {\n",
       "        vertical-align: top;\n",
       "    }\n",
       "</style>\n",
       "<table border=\"1\" class=\"dataframe\">\n",
       "  <thead>\n",
       "    <tr style=\"text-align: right;\">\n",
       "      <th></th>\n",
       "      <th>raised_amount_usd</th>\n",
       "    </tr>\n",
       "    <tr>\n",
       "      <th>funding_round_type</th>\n",
       "      <th></th>\n",
       "    </tr>\n",
       "  </thead>\n",
       "  <tbody>\n",
       "    <tr>\n",
       "      <th>angel</th>\n",
       "      <td>$850,410.38</td>\n",
       "    </tr>\n",
       "    <tr>\n",
       "      <th>private_equity</th>\n",
       "      <td>$62,489,908.00</td>\n",
       "    </tr>\n",
       "    <tr>\n",
       "      <th>seed</th>\n",
       "      <td>$820,441.33</td>\n",
       "    </tr>\n",
       "    <tr>\n",
       "      <th>venture</th>\n",
       "      <td>$11,549,426.25</td>\n",
       "    </tr>\n",
       "  </tbody>\n",
       "</table>\n",
       "</div>"
      ],
      "text/plain": [
       "                    raised_amount_usd\n",
       "funding_round_type                   \n",
       "angel                     $850,410.38\n",
       "private_equity         $62,489,908.00\n",
       "seed                      $820,441.33\n",
       "venture                $11,549,426.25"
      ]
     },
     "execution_count": 137,
     "metadata": {},
     "output_type": "execute_result"
    }
   ],
   "source": [
    "d=pd.DataFrame(master_frame.groupby(['funding_round_type']).raised_amount_usd.mean())\n",
    "# d=pd.DataFrame(d.raised_amount_usd.apply(lambda x: '%.2f'%x))\n",
    "d"
   ]
  },
  {
   "cell_type": "markdown",
   "metadata": {},
   "source": [
    "    --As per our criteria the amount invested must fall into 5 to 15 mn,\n",
    "      so 'venture' is the one that we will consider for investment   "
   ]
  },
  {
   "cell_type": "code",
   "execution_count": 138,
   "metadata": {},
   "outputs": [
    {
     "data": {
      "text/plain": [
       "(44257, 8)"
      ]
     },
     "execution_count": 138,
     "metadata": {},
     "output_type": "execute_result"
    }
   ],
   "source": [
    "\n",
    "master_frame=master_frame[master_frame['funding_round_type']=='venture']\n",
    "master_frame.shape"
   ]
  },
  {
   "cell_type": "markdown",
   "metadata": {},
   "source": [
    "# Country analysis (Checkpoint 3)"
   ]
  },
  {
   "cell_type": "code",
   "execution_count": 139,
   "metadata": {},
   "outputs": [
    {
     "data": {
      "text/plain": [
       "<Container object of 22 artists>"
      ]
     },
     "execution_count": 139,
     "metadata": {},
     "output_type": "execute_result"
    },
    {
     "data": {
      "image/png": "[encoded data removed]",
      "text/plain": [
       "<matplotlib.figure.Figure at 0x1f394abfc50>"
      ]
     },
     "metadata": {},
     "output_type": "display_data"
    }
   ],
   "source": [
    "countryInvestments=pd.DataFrame(master_frame.groupby('country_code').raised_amount_usd.sum().sort_values(ascending =True))\n",
    " \n",
    "plt.figure(figsize=(10,9))\n",
    "plt.title(\"Country investmenet analysis\") \n",
    "plt.xticks(rotation=90)\n",
    "plt.xlabel(\"Countries\")\n",
    "plt.ylabel(\"Total raised amount\")\n",
    "plt.bar(countryInvestments.index, countryInvestments.raised_amount_usd, edgecolor='white', width=1,color=\"RGBY\")"
   ]
  },
  {
   "cell_type": "markdown",
   "metadata": {},
   "source": [
    "    --What we can see from the visuals that most part of investment is done by USA following it is GBR and IND\n",
    "    --There is a huge difference of amount in USA and all othe coutries\n",
    "    --We will consider top 10 countries with highest investment for our investigation."
   ]
  },
  {
   "cell_type": "code",
   "execution_count": 140,
   "metadata": {},
   "outputs": [
    {
     "data": {
      "text/plain": [
       "company_permalink        0\n",
       "funding_round_type       0\n",
       "raised_amount_usd        2\n",
       "permalink                0\n",
       "category_list          417\n",
       "status                   0\n",
       "country_code             0\n",
       "founded_at            7431\n",
       "dtype: int64"
      ]
     },
     "execution_count": 140,
     "metadata": {},
     "output_type": "execute_result"
    }
   ],
   "source": [
    "top9=master_frame[master_frame['country_code'].isin(countryInvestments.tail(9).index)]\n",
    "top9.shape\n",
    "top9.isnull().sum()"
   ]
  },
  {
   "cell_type": "code",
   "execution_count": 141,
   "metadata": {},
   "outputs": [
    {
     "data": {
      "text/plain": [
       "<Container object of 9 artists>"
      ]
     },
     "execution_count": 141,
     "metadata": {},
     "output_type": "execute_result"
    },
    {
     "data": {
      "image/png": "[encoded data removed]",
      "text/plain": [
       "<matplotlib.figure.Figure at 0x1f38d66da20>"
      ]
     },
     "metadata": {},
     "output_type": "display_data"
    }
   ],
   "source": [
    "top9Plot=pd.DataFrame(top9.groupby('country_code').raised_amount_usd.sum().sort_values(ascending=True))\n",
    "\n",
    "plt.figure(figsize=(15,9))\n",
    "plt.title(\"Top 9 Country investmenet analysis for venture fund type\") \n",
    "plt.xticks(rotation=90)\n",
    "plt.xlabel(\"Countries\")\n",
    "plt.ylabel(\"Total raised amount\")\n",
    "plt.bar(top9Plot.index, top9Plot.raised_amount_usd, edgecolor='white', width=1,color=\"RGBY\")"
   ]
  },
  {
   "cell_type": "markdown",
   "metadata": {},
   "source": [
    "    -here top 3 englidh dpeaking coutries are USA, GBR and IND\n",
    "    -We will reduce dataset to this 3 top countries\n",
    "    "
   ]
  },
  {
   "cell_type": "code",
   "execution_count": 142,
   "metadata": {},
   "outputs": [
    {
     "data": {
      "text/html": [
       "<div>\n",
       "<style>\n",
       "    .dataframe thead tr:only-child th {\n",
       "        text-align: right;\n",
       "    }\n",
       "\n",
       "    .dataframe thead th {\n",
       "        text-align: left;\n",
       "    }\n",
       "\n",
       "    .dataframe tbody tr th {\n",
       "        vertical-align: top;\n",
       "    }\n",
       "</style>\n",
       "<table border=\"1\" class=\"dataframe\">\n",
       "  <thead>\n",
       "    <tr style=\"text-align: right;\">\n",
       "      <th></th>\n",
       "      <th>raised_amount_usd</th>\n",
       "    </tr>\n",
       "    <tr>\n",
       "      <th>country_code</th>\n",
       "      <th></th>\n",
       "    </tr>\n",
       "  </thead>\n",
       "  <tbody>\n",
       "    <tr>\n",
       "      <th>USA</th>\n",
       "      <td>$448,617,450,946.87</td>\n",
       "    </tr>\n",
       "    <tr>\n",
       "      <th>GBR</th>\n",
       "      <td>$22,688,895,347.47</td>\n",
       "    </tr>\n",
       "    <tr>\n",
       "      <th>IND</th>\n",
       "      <td>$17,326,121,175.07</td>\n",
       "    </tr>\n",
       "    <tr>\n",
       "      <th>CAN</th>\n",
       "      <td>$10,270,036,065.83</td>\n",
       "    </tr>\n",
       "    <tr>\n",
       "      <th>SGP</th>\n",
       "      <td>$3,640,942,726.37</td>\n",
       "    </tr>\n",
       "    <tr>\n",
       "      <th>CHE</th>\n",
       "      <td>$3,492,868,561.41</td>\n",
       "    </tr>\n",
       "    <tr>\n",
       "      <th>IRL</th>\n",
       "      <td>$2,061,188,552.03</td>\n",
       "    </tr>\n",
       "    <tr>\n",
       "      <th>AUS</th>\n",
       "      <td>$1,438,531,205.59</td>\n",
       "    </tr>\n",
       "    <tr>\n",
       "      <th>RWA</th>\n",
       "      <td>$nan</td>\n",
       "    </tr>\n",
       "  </tbody>\n",
       "</table>\n",
       "</div>"
      ],
      "text/plain": [
       "               raised_amount_usd\n",
       "country_code                    \n",
       "USA          $448,617,450,946.87\n",
       "GBR           $22,688,895,347.47\n",
       "IND           $17,326,121,175.07\n",
       "CAN           $10,270,036,065.83\n",
       "SGP            $3,640,942,726.37\n",
       "CHE            $3,492,868,561.41\n",
       "IRL            $2,061,188,552.03\n",
       "AUS            $1,438,531,205.59\n",
       "RWA                         $nan"
      ]
     },
     "execution_count": 142,
     "metadata": {},
     "output_type": "execute_result"
    }
   ],
   "source": [
    "top9Plot=top9Plot.sort_values(ascending=False,by='raised_amount_usd')\n",
    "top9Plot"
   ]
  },
  {
   "cell_type": "code",
   "execution_count": 143,
   "metadata": {},
   "outputs": [
    {
     "data": {
      "text/plain": [
       "(41667, 8)"
      ]
     },
     "execution_count": 143,
     "metadata": {},
     "output_type": "execute_result"
    }
   ],
   "source": [
    "\n",
    "master_frame=master_frame[master_frame['country_code'].isin(top9Plot.head(3).index)]\n",
    "master_frame.shape"
   ]
  },
  {
   "cell_type": "markdown",
   "metadata": {},
   "source": [
    "    -We reduced data from 41k data after removing all other countries except top 3    "
   ]
  },
  {
   "cell_type": "code",
   "execution_count": 146,
   "metadata": {},
   "outputs": [
    {
     "data": {
      "text/html": [
       "<div>\n",
       "<style>\n",
       "    .dataframe thead tr:only-child th {\n",
       "        text-align: right;\n",
       "    }\n",
       "\n",
       "    .dataframe thead th {\n",
       "        text-align: left;\n",
       "    }\n",
       "\n",
       "    .dataframe tbody tr th {\n",
       "        vertical-align: top;\n",
       "    }\n",
       "</style>\n",
       "<table border=\"1\" class=\"dataframe\">\n",
       "  <thead>\n",
       "    <tr style=\"text-align: right;\">\n",
       "      <th></th>\n",
       "      <th>raised_amount_usd</th>\n",
       "    </tr>\n",
       "    <tr>\n",
       "      <th>country_code</th>\n",
       "      <th></th>\n",
       "    </tr>\n",
       "  </thead>\n",
       "  <tbody>\n",
       "    <tr>\n",
       "      <th>USA</th>\n",
       "      <td>$448,617,450,946.87</td>\n",
       "    </tr>\n",
       "    <tr>\n",
       "      <th>GBR</th>\n",
       "      <td>$22,688,895,347.47</td>\n",
       "    </tr>\n",
       "    <tr>\n",
       "      <th>IND</th>\n",
       "      <td>$17,326,121,175.07</td>\n",
       "    </tr>\n",
       "  </tbody>\n",
       "</table>\n",
       "</div>"
      ],
      "text/plain": [
       "               raised_amount_usd\n",
       "country_code                    \n",
       "USA          $448,617,450,946.87\n",
       "GBR           $22,688,895,347.47\n",
       "IND           $17,326,121,175.07"
      ]
     },
     "execution_count": 146,
     "metadata": {},
     "output_type": "execute_result"
    }
   ],
   "source": [
    "countryOrder=pd.DataFrame(master_frame.groupby('country_code').raised_amount_usd.sum().sort_values(ascending=False))\n",
    "# countryOrder=pd.DataFrame(countryOrder.raised_amount_usd.apply(lambda x: '%.2f'%x))\n",
    "countryOrder"
   ]
  },
  {
   "cell_type": "code",
   "execution_count": 147,
   "metadata": {},
   "outputs": [
    {
     "data": {
      "image/png": "[encoded data removed]",
      "text/plain": [
       "<matplotlib.figure.Figure at 0x1f38e6c0c88>"
      ]
     },
     "metadata": {},
     "output_type": "display_data"
    }
   ],
   "source": [
    " \n",
    "plotCountryFund = master_frame.groupby('country_code').raised_amount_usd.sum()\n",
    "plotCountryFund.plot(figsize=(10,10),kind='bar',fontsize=10,width=1,color='RGB')\n",
    "plt.ylabel('Sum of raised amount')\n",
    "plt.xlabel('Country')\n",
    "plt.title('top 3 Country and best fitting rounding type venture analysis')  \n",
    "plt.show()"
   ]
  },
  {
   "cell_type": "markdown",
   "metadata": {},
   "source": [
    "# Sector analysis (Checkpoint 4)\n",
    "    --we do not have direct mappimg for sectors\n",
    "    --we do have one hot encoded file for the same, so we will do reverse one hot enconding of given file\n",
    "    --We have some null data in categories, it is not useful to keep null data, we will remove it"
   ]
  },
  {
   "cell_type": "code",
   "execution_count": 148,
   "metadata": {
    "collapsed": true
   },
   "outputs": [],
   "source": [
    "\n",
    "master_frame = master_frame.drop(master_frame[master_frame['category_list'].isnull()].index)"
   ]
  },
  {
   "cell_type": "code",
   "execution_count": 149,
   "metadata": {
    "collapsed": true
   },
   "outputs": [],
   "source": [
    "def get_sector(row):\n",
    "     for c in mappings.columns:\n",
    "            if row[c]==1:\n",
    "                return c\n",
    "\n",
    "mappings['sector']=mappings.apply(get_sector, axis=1)\n",
    "modified_mappings=mappings[['category_list','sector']]\n",
    "\n",
    " "
   ]
  },
  {
   "cell_type": "code",
   "execution_count": 150,
   "metadata": {
    "collapsed": true,
    "scrolled": true
   },
   "outputs": [],
   "source": [
    "def partPrimary(x):\n",
    "    #print(x)\n",
    "    p=[]\n",
    "    parts = x.split('|')\n",
    "    for y in parts:\n",
    "        p.extend(modified_mappings.loc[modified_mappings['category_list']==y]['sector'])\n",
    "        break\n",
    "    k=','.join(str(s) for s in set(p))   \n",
    "    return k\n",
    "def partMain(x):\n",
    "    #print(x)\n",
    "    p=[]\n",
    "    parts = x.split('|')\n",
    "    for y in parts:\n",
    "        p.extend(modified_mappings.loc[modified_mappings['category_list']==y]['sector'])       \n",
    "    k=','.join(str(s) for s in set(p))   \n",
    "    return k\n",
    "\n",
    "master_frame['primary_sector']=master_frame['category_list'].apply(partPrimary)\n"
   ]
  },
  {
   "cell_type": "code",
   "execution_count": 151,
   "metadata": {
    "collapsed": true
   },
   "outputs": [],
   "source": [
    "master_frame['main_sector']=master_frame['category_list'].apply(partMain)"
   ]
  },
  {
   "cell_type": "code",
   "execution_count": 178,
   "metadata": {},
   "outputs": [
    {
     "data": {
      "text/html": [
       "<div>\n",
       "<style>\n",
       "    .dataframe thead tr:only-child th {\n",
       "        text-align: right;\n",
       "    }\n",
       "\n",
       "    .dataframe thead th {\n",
       "        text-align: left;\n",
       "    }\n",
       "\n",
       "    .dataframe tbody tr th {\n",
       "        vertical-align: top;\n",
       "    }\n",
       "</style>\n",
       "<table border=\"1\" class=\"dataframe\">\n",
       "  <thead>\n",
       "    <tr style=\"text-align: right;\">\n",
       "      <th></th>\n",
       "      <th>company_permalink</th>\n",
       "      <th>funding_round_type</th>\n",
       "      <th>raised_amount_usd</th>\n",
       "      <th>permalink</th>\n",
       "      <th>category_list</th>\n",
       "      <th>status</th>\n",
       "      <th>country_code</th>\n",
       "      <th>founded_at</th>\n",
       "      <th>primary_sector</th>\n",
       "      <th>main_sector</th>\n",
       "    </tr>\n",
       "  </thead>\n",
       "  <tbody>\n",
       "    <tr>\n",
       "      <th>0</th>\n",
       "      <td>/organization/-fame</td>\n",
       "      <td>venture</td>\n",
       "      <td>1.000000e+07</td>\n",
       "      <td>/organization/-fame</td>\n",
       "      <td>Media</td>\n",
       "      <td>operating</td>\n",
       "      <td>IND</td>\n",
       "      <td>NaN</td>\n",
       "      <td>Entertainment</td>\n",
       "      <td>Entertainment</td>\n",
       "    </tr>\n",
       "    <tr>\n",
       "      <th>1</th>\n",
       "      <td>/organization/-qounter</td>\n",
       "      <td>venture</td>\n",
       "      <td>1.169127e+07</td>\n",
       "      <td>/organization/-qounter</td>\n",
       "      <td>Application Platforms|Real Time|Social Network...</td>\n",
       "      <td>operating</td>\n",
       "      <td>USA</td>\n",
       "      <td>04-09-2014</td>\n",
       "      <td>News, Search and Messaging</td>\n",
       "      <td>News, Search and Messaging,Social, Finance, An...</td>\n",
       "    </tr>\n",
       "    <tr>\n",
       "      <th>5</th>\n",
       "      <td>/organization/004-technologies</td>\n",
       "      <td>venture</td>\n",
       "      <td>1.169127e+07</td>\n",
       "      <td>/organization/004-technologies</td>\n",
       "      <td>Software</td>\n",
       "      <td>operating</td>\n",
       "      <td>USA</td>\n",
       "      <td>01-01-2010</td>\n",
       "      <td>Others</td>\n",
       "      <td>Others</td>\n",
       "    </tr>\n",
       "    <tr>\n",
       "      <th>10</th>\n",
       "      <td>/organization/0xdata</td>\n",
       "      <td>venture</td>\n",
       "      <td>2.000000e+07</td>\n",
       "      <td>/organization/0xdata</td>\n",
       "      <td>Analytics</td>\n",
       "      <td>operating</td>\n",
       "      <td>USA</td>\n",
       "      <td>01-01-2011</td>\n",
       "      <td>Social, Finance, Analytics, Advertising</td>\n",
       "      <td>Social, Finance, Analytics, Advertising</td>\n",
       "    </tr>\n",
       "    <tr>\n",
       "      <th>11</th>\n",
       "      <td>/organization/0xdata</td>\n",
       "      <td>venture</td>\n",
       "      <td>1.700000e+06</td>\n",
       "      <td>/organization/0xdata</td>\n",
       "      <td>Analytics</td>\n",
       "      <td>operating</td>\n",
       "      <td>USA</td>\n",
       "      <td>01-01-2011</td>\n",
       "      <td>Social, Finance, Analytics, Advertising</td>\n",
       "      <td>Social, Finance, Analytics, Advertising</td>\n",
       "    </tr>\n",
       "  </tbody>\n",
       "</table>\n",
       "</div>"
      ],
      "text/plain": [
       "                 company_permalink funding_round_type  raised_amount_usd  \\\n",
       "0              /organization/-fame            venture       1.000000e+07   \n",
       "1           /organization/-qounter            venture       1.169127e+07   \n",
       "5   /organization/004-technologies            venture       1.169127e+07   \n",
       "10            /organization/0xdata            venture       2.000000e+07   \n",
       "11            /organization/0xdata            venture       1.700000e+06   \n",
       "\n",
       "                         permalink  \\\n",
       "0              /organization/-fame   \n",
       "1           /organization/-qounter   \n",
       "5   /organization/004-technologies   \n",
       "10            /organization/0xdata   \n",
       "11            /organization/0xdata   \n",
       "\n",
       "                                        category_list     status country_code  \\\n",
       "0                                               Media  operating          IND   \n",
       "1   Application Platforms|Real Time|Social Network...  operating          USA   \n",
       "5                                            Software  operating          USA   \n",
       "10                                          Analytics  operating          USA   \n",
       "11                                          Analytics  operating          USA   \n",
       "\n",
       "    founded_at                           primary_sector  \\\n",
       "0          NaN                            Entertainment   \n",
       "1   04-09-2014               News, Search and Messaging   \n",
       "5   01-01-2010                                   Others   \n",
       "10  01-01-2011  Social, Finance, Analytics, Advertising   \n",
       "11  01-01-2011  Social, Finance, Analytics, Advertising   \n",
       "\n",
       "                                          main_sector  \n",
       "0                                       Entertainment  \n",
       "1   News, Search and Messaging,Social, Finance, An...  \n",
       "5                                              Others  \n",
       "10            Social, Finance, Analytics, Advertising  \n",
       "11            Social, Finance, Analytics, Advertising  "
      ]
     },
     "execution_count": 178,
     "metadata": {},
     "output_type": "execute_result"
    }
   ],
   "source": [
    "master_frame.head()\n",
    "#Merged primary sector with our master frame\n"
   ]
  },
  {
   "cell_type": "code",
   "execution_count": 155,
   "metadata": {
    "collapsed": true,
    "scrolled": true
   },
   "outputs": [],
   "source": [
    "#Create 3 Dataframes D1,D2,D3 for each top 3 english speaking countries \n",
    "D1_USA=pd.DataFrame(master_frame[master_frame['country_code']=='USA'])\n",
    "D2_GBR=pd.DataFrame(master_frame[master_frame['country_code']=='GBR'])\n",
    "D3_IND=pd.DataFrame(master_frame[master_frame['country_code']=='IND'])"
   ]
  },
  {
   "cell_type": "code",
   "execution_count": 164,
   "metadata": {},
   "outputs": [
    {
     "data": {
      "text/plain": [
       "10"
      ]
     },
     "execution_count": 164,
     "metadata": {},
     "output_type": "execute_result"
    }
   ],
   "source": [
    "D1_USA.shape[1]"
   ]
  },
  {
   "cell_type": "code",
   "execution_count": 168,
   "metadata": {},
   "outputs": [
    {
     "name": "stdout",
     "output_type": "stream",
     "text": [
      "Rows of D1_USA 38034 Columns of D1_USA 10 Total amount raised by USA= 444514477010.36646\n",
      "Rows of D2_GBR 2265 Columns of D2_GBR 10 Total amount raised by GBR= 22279635651.778175\n",
      "Rows of D3_IND 984 Columns of D3_IND 10 Total amount raised by IND= 17143373631.191803\n"
     ]
    }
   ],
   "source": [
    "print(\"Rows of D1_USA\", D1_USA.shape[0],\"Columns of D1_USA\",D1_USA.shape[1],\"Total amount raised by USA=\",D1_USA.raised_amount_usd.sum())\n",
    "print(\"Rows of D2_GBR\", D2_GBR.shape[0],\"Columns of D2_GBR\",D2_GBR.shape[1],\"Total amount raised by GBR=\",D2_GBR.raised_amount_usd.sum())\n",
    "print(\"Rows of D3_IND\", D3_IND.shape[0],\"Columns of D3_IND\",D3_IND.shape[1],\"Total amount raised by IND=\",D3_IND.raised_amount_usd.sum())"
   ]
  },
  {
   "cell_type": "code",
   "execution_count": 169,
   "metadata": {
    "scrolled": true
   },
   "outputs": [
    {
     "name": "stdout",
     "output_type": "stream",
     "text": [
      "---------------------------------------------------------------------------------\n",
      "USA analysis \n",
      "---------------------------------------------------------------------------------\n",
      "                                                        sum  count\n",
      "primary_sector                                                    \n",
      "Others                                   $87,345,649,996.58   8693\n",
      "Cleantech / Semiconductors              $121,850,937,524.93   8113\n",
      "Social, Finance, Analytics, Advertising  $81,894,023,772.70   6916\n",
      "News, Search and Messaging               $47,670,741,023.92   4562\n",
      "Health                                   $33,297,711,906.49   3403\n",
      "Manufacturing                            $27,066,660,960.67   2643\n",
      "Entertainment                            $18,111,078,910.46   1888\n",
      "                                         $14,932,340,687.38   1250\n",
      "Automotive & Sports                      $12,345,332,227.21    566\n",
      "---------------------------------------------------------------------------------\n",
      "GBR analysis\n",
      "---------------------------------------------------------------------------------\n",
      "                                                      sum  count\n",
      "primary_sector                                                  \n",
      "Others                                  $5,030,943,799.51    571\n",
      "Cleantech / Semiconductors              $5,255,322,663.87    456\n",
      "Social, Finance, Analytics, Advertising $3,489,210,092.56    405\n",
      "News, Search and Messaging              $3,192,469,032.69    265\n",
      "Entertainment                           $1,377,726,533.69    157\n",
      "Manufacturing                           $1,117,802,082.20    132\n",
      "Health                                  $1,125,469,900.56    126\n",
      "                                        $1,111,293,966.49     99\n",
      "Automotive & Sports                       $579,397,580.20     54\n",
      "---------------------------------------------------------------------------------\n",
      "IND analysis\n",
      "---------------------------------------------------------------------------------\n",
      "                                                      sum  count\n",
      "primary_sector                                                  \n",
      "Others                                  $7,156,868,142.02    329\n",
      "News, Search and Messaging              $2,158,760,299.01    154\n",
      "Social, Finance, Analytics, Advertising $1,663,332,700.60    130\n",
      "Entertainment                           $1,202,761,367.46     88\n",
      "                                          $747,853,506.46     68\n",
      "Manufacturing                             $887,452,631.63     64\n",
      "Cleantech / Semiconductors                $943,637,264.63     63\n",
      "Health                                    $808,891,871.42     56\n",
      "Automotive & Sports                     $1,573,815,847.96     32\n"
     ]
    }
   ],
   "source": [
    "USA=pd.DataFrame(D1_USA.groupby(['primary_sector']).raised_amount_usd.agg(['sum', 'count'])).sort_values(by='count',ascending=False)\n",
    "# pd.DataFrame(USA['sum'].apply(lambda x: '%.2f'%x))\n",
    "print(\"---------------------------------------------------------------------------------\")\n",
    "print(\"USA analysis \")\n",
    "print(\"---------------------------------------------------------------------------------\")\n",
    "print(USA)\n",
    "GBR=pd.DataFrame(D2_GBR.groupby(['primary_sector']).raised_amount_usd.agg(['sum', 'count'])).sort_values(by='count',ascending=False)\n",
    "print(\"---------------------------------------------------------------------------------\")\n",
    "print(\"GBR analysis\")\n",
    "print(\"---------------------------------------------------------------------------------\")\n",
    "print(GBR)\n",
    "IND=pd.DataFrame(D3_IND.groupby(['primary_sector']).raised_amount_usd.agg(['sum', 'count'])).sort_values(by='count',ascending=False)\n",
    "print(\"---------------------------------------------------------------------------------\")\n",
    "print(\"IND analysis\")\n",
    "print(\"---------------------------------------------------------------------------------\")\n",
    "print(IND)"
   ]
  },
  {
   "cell_type": "code",
   "execution_count": 59,
   "metadata": {
    "collapsed": true
   },
   "outputs": [],
   "source": [
    "USSectors=USA.head(3).index.tolist()\n",
    "GBRSectors=GBR.head(3).index.tolist()\n",
    "INDSectors=IND.head(3).index.tolist()\n",
    "sectors=USSectors+GBRSectors+INDSectors\n",
    "sectors=list(set(sectors))"
   ]
  },
  {
   "cell_type": "code",
   "execution_count": 242,
   "metadata": {},
   "outputs": [
    {
     "data": {
      "text/plain": [
       "company_permalink\n",
       "/organization/social-finance   $1,365,199,900.00\n",
       "/organization/snapchat         $1,165,100,000.00\n",
       "Name: raised_amount_usd, dtype: float64"
      ]
     },
     "execution_count": 242,
     "metadata": {},
     "output_type": "execute_result"
    }
   ],
   "source": [
    "D1_USA[D1_USA['primary_sector']=='Others'].groupby('company_permalink').raised_amount_usd.sum().sort_values(ascending=False).head(2)"
   ]
  },
  {
   "cell_type": "code",
   "execution_count": 243,
   "metadata": {},
   "outputs": [
    {
     "data": {
      "text/plain": [
       "company_permalink\n",
       "/organization/oneweb     $500,000,000.00\n",
       "/organization/farfetch   $194,500,000.00\n",
       "Name: raised_amount_usd, dtype: float64"
      ]
     },
     "execution_count": 243,
     "metadata": {},
     "output_type": "execute_result"
    }
   ],
   "source": [
    "D2_GBR[D2_GBR['primary_sector']=='Others'].groupby('company_permalink').raised_amount_usd.sum().sort_values(ascending=False).head(2)"
   ]
  },
  {
   "cell_type": "code",
   "execution_count": 244,
   "metadata": {},
   "outputs": [
    {
     "data": {
      "text/plain": [
       "company_permalink\n",
       "/organization/flipkart   $2,451,000,000.00\n",
       "/organization/snapdeal     $345,631,693.92\n",
       "Name: raised_amount_usd, dtype: float64"
      ]
     },
     "execution_count": 244,
     "metadata": {},
     "output_type": "execute_result"
    }
   ],
   "source": [
    "D3_IND[D3_IND['primary_sector']=='Others'].groupby('company_permalink').raised_amount_usd.sum().sort_values(ascending=False).head(2)"
   ]
  },
  {
   "cell_type": "code",
   "execution_count": 65,
   "metadata": {},
   "outputs": [
    {
     "data": {
      "text/plain": [
       "Text(0,0.5,'Count of investment')"
      ]
     },
     "execution_count": 65,
     "metadata": {},
     "output_type": "execute_result"
    },
    {
     "data": {
      "image/png": "[encoded data removed]",
      "text/plain": [
       "<matplotlib.figure.Figure at 0x1f38be92cf8>"
      ]
     },
     "metadata": {},
     "output_type": "display_data"
    }
   ],
   "source": [
    "#Top 3 sectors top 3 countries analysis\n",
    "graph3 = master_frame[master_frame['primary_sector'].isin(sectors)].pivot_table(values='raised_amount_usd', index='country_code' ,columns=['primary_sector'], aggfunc=np.count_nonzero)\n",
    "\n",
    "graph3.plot(figsize=(20,10),kind='bar',fontsize=10,width=0.8)\n",
    "plt.title('Country and rounding type analysis') \n",
    "plt.ylabel('Count of investment')"
   ]
  },
  {
   "cell_type": "markdown",
   "metadata": {},
   "source": [
    "    --Notable Observations\n",
    "        1)USA - Sectors Others,Cleantech/Semiconductors,Social/Finance/Analytics/Advertising \n",
    "                are the most occured investment \n",
    "        2)GBR - Sectors Others,Cleantech/Semiconductors,Social/Analytics/Advertising \n",
    "                are the most occured investmenets\n",
    "        3)IND - Sectors Others and News seems to top the chart for India "
   ]
  }
 ],
 "metadata": {
  "kernelspec": {
   "display_name": "Python 3",
   "language": "python",
   "name": "python3"
  },
  "language_info": {
   "codemirror_mode": {
    "name": "ipython",
    "version": 3
   },
   "file_extension": ".py",
   "mimetype": "text/x-python",
   "name": "python",
   "nbconvert_exporter": "python",
   "pygments_lexer": "ipython3",
   "version": "3.6.3"
  }
 },
 "nbformat": 4,
 "nbformat_minor": 2
}
